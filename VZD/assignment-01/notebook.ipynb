{
 "cells": [
  {
   "cell_type": "markdown",
   "source": "# Úkol č. 1 - předzpracování dat a binární klasifikace\n\n  * **Deadline je do 31. října 23:59**, pokud odevzdáte úkol do 7. listopadu 23:59 budete penalizování -4 body, pozdější odevzdání je bez bodu.\n  * V rámci tohoto úkolu se musíte vypořádat s příznaky, které jsou různých typů.\n  * Před tím, než na nich postavíte predikční model, je třeba je nějakým způsobem převést do číselné reprezentace.\n    \n> **Úkoly jsou zadány tak, aby Vám daly prostor pro invenci. Vymyslet _jak přesně_ budete úkol řešit, je důležitou součástí zadání a originalita či nápaditost bude také hodnocena!**\n\n## Zdroj dat\n\nBudeme se zabývat predikcí přežití pasažérů Titaniku.\nK dispozici máte trénovací data v souboru **data.csv** a data na vyhodnocení v souboru **evaluation.csv**.\n\n#### Seznam příznaků:\n* survived - zda přežil, 0 = Ne, 1 = Ano, **vysvětlovaná proměnná**, kterou chcete predikovat\n* pclass - Třída lodního lístku, 1 = první, 2 = druhá, 3 = třetí\n* name - jméno\n* sex - pohlaví\n* age - věk v letech\n* sibsp\t- počet sourozenců / manželů, manželek na palubě\n* parch - počet rodičů / dětí na palubě\n* ticket - číslo lodního lístku\n* fare - cena lodního lístku\n* cabin\t- číslo kajuty\n* embarked\t- místo nalodění, C = Cherbourg, Q = Queenstown, S = Southampton\n* home.dest - Bydliště/Cíl\n\n## Pokyny k vypracování\n\n**Základní body zadání**, za jejichž (poctivé) vypracování získáte **12 bodů**:\n  * Využívejte buňky typu `Markdown` k vysvětlování Vašeho postupu. Za nepřehlednost budeme strhávat body.\n  * V notebooku načtěte data ze souboru **data.csv**. Vhodným způsobem si je rozdělte na podmnožiny vhodné k trénování modelu.\n  * Projděte si jednotlivé příznaky a transformujte je do vhodné podoby pro použití ve vybraném klasifikačním modelu.\n  * Podle potřeby si můžete vytvářet nové příznaky (na základě existujících), například tedy můžete vytvořit příznak měřící délku jména. Některé příznaky můžete také úplně zahodit. Pro průzkum dat využívejte vizualizace.\n  * Nějakým způsobem se vypořádejte s chybějícími hodnotami.\n  * Následně si vyberte vhodný klasifikační model z přednášek. Najděte vhodné hyperparametry a určete jeho přesnost (accuracy) na trénovací množině. Také určete jeho přesnost na testovací množině.\n  * Načtěte vyhodnocovací data ze souboru **evaluation.csv**. Napočítejte predikce pro tyto data (vysvětlovaná proměnná v nich již není). Vytvořte **results.csv** soubor, ve kterém tyto predikce uložíte do dvou sloupců: ID, predikce přežití. Tento soubor též odevzdejte (uložte do projektu vedle notebooku).\n  * Ukázka prvních řádků souboru *results.csv*:\n  \n```\nID,survived\n1000,0\n1001,1\n...\n```\n\n**Další body zadání** za případné další body  (můžete si vybrat, maximum bodů za úkol je každopádně 16 bodů):\n  * (až +4 body) Aplikujte všechny klasifikační modely z přednášek a určete (na základě přesnosti na validační množině), který je nejlepší. Přesnost tohoto nejlepšího modelu odhadněte pomocí křížové validace. K predikcím na vyhodnocovacích datech využijte tento model.\n  * (až +4 body) Zkuste použít nějaké (alespoň dvě) netriviální metody doplňování chybějících hodnot u věku. Zaměřte na vliv těchto metod na přesnost predikce výsledného modelu. K predikcím na vyhodnocovacích datech využijte ten přístup, který Vám vyjde jako nejlepší.\n\n## Poznámky k odevzdání\n\n  * Řiďte se pokyny ze stránky https://courses.fit.cvut.cz/BI-VZD/homeworks/index.html.\n  * Vytvořte i csv soubor s predikcemi a uložte ho v rámci projektu (`results.csv`, vedle ipython notebooku).\n  * Opravující Vám může umožnit úkol dodělat či opravit a získat tak další body. První verze je ale důležitá a bude-li odbytá, budete za to penalizováni.",
   "metadata": {
    "tags": [],
    "cell_id": "00001-f1691064-d64c-4100-989c-00352e98c53b",
    "deepnote_cell_type": "markdown",
    "deepnote_cell_height": 1661.375
   }
  },
  {
   "cell_type": "code",
   "metadata": {
    "tags": [],
    "cell_id": "00001-937d96f3-19ff-4c54-8343-c54735f85b3c",
    "deepnote_to_be_reexecuted": false,
    "source_hash": "b623e53d",
    "execution_start": 1635360614791,
    "execution_millis": 18775316,
    "deepnote_cell_type": "code",
    "deepnote_cell_height": 81
   },
   "source": "",
   "execution_count": 0,
   "outputs": []
  },
  {
   "cell_type": "markdown",
   "source": "* Importujeme si kniznice na pracu s datami a nastavime random seed",
   "metadata": {
    "tags": [],
    "cell_id": "00002-d63d32b6-c6c4-4636-b69d-0b16fe02b4a2",
    "deepnote_cell_type": "markdown",
    "deepnote_cell_height": 69.390625
   }
  },
  {
   "cell_type": "code",
   "metadata": {
    "tags": [],
    "cell_id": "00001-7f74cc49-edc2-4b3c-a754-f48ada9fc9bb",
    "deepnote_to_be_reexecuted": false,
    "source_hash": "74b7860",
    "execution_start": 1635360614854,
    "execution_millis": 5985,
    "deepnote_cell_type": "code",
    "deepnote_cell_height": 423
   },
   "source": "### odtud už je to Vaše\nimport math\nimport pandas as pd\nimport numpy as np\nimport seaborn as sns\nimport sklearn.metrics as metrics\nimport matplotlib.pyplot as plt\nfrom sklearn.ensemble import RandomForestClassifier\nfrom sklearn.tree import DecisionTreeClassifier\nfrom sklearn.metrics import accuracy_score\nfrom sklearn import metrics, datasets\nfrom sklearn.model_selection import ParameterGrid, train_test_split, KFold, LeaveOneOut\nfrom sklearn.preprocessing import LabelEncoder\n\nfrom sklearn.ensemble import AdaBoostClassifier\nimport warnings\nwarnings.filterwarnings('ignore')\n\nrandom_seed = 7\n",
   "execution_count": null,
   "outputs": []
  },
  {
   "cell_type": "markdown",
   "source": "* Importujeme si data z csv subor\n* Spravime si rozbor dat (pocet riadkov, datove typy, ...)",
   "metadata": {
    "tags": [],
    "cell_id": "00004-a9f84726-7735-4b0d-aeb1-4798035c876c",
    "deepnote_cell_type": "markdown",
    "deepnote_cell_height": 94.78125
   }
  },
  {
   "cell_type": "code",
   "metadata": {
    "tags": [],
    "cell_id": "00002-4759f2e5-0e72-4e96-8592-f75cf608f702",
    "deepnote_to_be_reexecuted": false,
    "source_hash": "d548f0fe",
    "execution_start": 1635360620860,
    "execution_millis": 310,
    "deepnote_cell_type": "code",
    "deepnote_cell_height": 757.75,
    "deepnote_output_heights": [
     null,
     177
    ]
   },
   "source": "data = pd.read_csv('data.csv')\ndata.info()\ndata.describe()\ndata.head()",
   "execution_count": null,
   "outputs": [
    {
     "name": "stdout",
     "text": "<class 'pandas.core.frame.DataFrame'>\nRangeIndex: 1000 entries, 0 to 999\nData columns (total 13 columns):\n #   Column     Non-Null Count  Dtype  \n---  ------     --------------  -----  \n 0   ID         1000 non-null   int64  \n 1   survived   1000 non-null   int64  \n 2   pclass     1000 non-null   int64  \n 3   name       1000 non-null   object \n 4   sex        1000 non-null   object \n 5   age        797 non-null    float64\n 6   sibsp      1000 non-null   int64  \n 7   parch      1000 non-null   int64  \n 8   ticket     1000 non-null   object \n 9   fare       999 non-null    float64\n 10  cabin      222 non-null    object \n 11  embarked   999 non-null    object \n 12  home.dest  573 non-null    object \ndtypes: float64(2), int64(5), object(6)\nmemory usage: 101.7+ KB\n",
     "output_type": "stream"
    },
    {
     "output_type": "execute_result",
     "execution_count": 2,
     "data": {
      "application/vnd.deepnote.dataframe.v2+json": {
       "row_count": 5,
       "column_count": 13,
       "columns": [
        {
         "name": "ID",
         "dtype": "int64",
         "stats": {
          "unique_count": 5,
          "nan_count": 0,
          "min": "0",
          "max": "4",
          "histogram": [
           {
            "bin_start": 0,
            "bin_end": 0.4,
            "count": 1
           },
           {
            "bin_start": 0.4,
            "bin_end": 0.8,
            "count": 0
           },
           {
            "bin_start": 0.8,
            "bin_end": 1.2000000000000002,
            "count": 1
           },
           {
            "bin_start": 1.2000000000000002,
            "bin_end": 1.6,
            "count": 0
           },
           {
            "bin_start": 1.6,
            "bin_end": 2,
            "count": 0
           },
           {
            "bin_start": 2,
            "bin_end": 2.4000000000000004,
            "count": 1
           },
           {
            "bin_start": 2.4000000000000004,
            "bin_end": 2.8000000000000003,
            "count": 0
           },
           {
            "bin_start": 2.8000000000000003,
            "bin_end": 3.2,
            "count": 1
           },
           {
            "bin_start": 3.2,
            "bin_end": 3.6,
            "count": 0
           },
           {
            "bin_start": 3.6,
            "bin_end": 4,
            "count": 1
           }
          ]
         }
        },
        {
         "name": "survived",
         "dtype": "int64",
         "stats": {
          "unique_count": 2,
          "nan_count": 0,
          "min": "0",
          "max": "1",
          "histogram": [
           {
            "bin_start": 0,
            "bin_end": 0.1,
            "count": 2
           },
           {
            "bin_start": 0.1,
            "bin_end": 0.2,
            "count": 0
           },
           {
            "bin_start": 0.2,
            "bin_end": 0.30000000000000004,
            "count": 0
           },
           {
            "bin_start": 0.30000000000000004,
            "bin_end": 0.4,
            "count": 0
           },
           {
            "bin_start": 0.4,
            "bin_end": 0.5,
            "count": 0
           },
           {
            "bin_start": 0.5,
            "bin_end": 0.6000000000000001,
            "count": 0
           },
           {
            "bin_start": 0.6000000000000001,
            "bin_end": 0.7000000000000001,
            "count": 0
           },
           {
            "bin_start": 0.7000000000000001,
            "bin_end": 0.8,
            "count": 0
           },
           {
            "bin_start": 0.8,
            "bin_end": 0.9,
            "count": 0
           },
           {
            "bin_start": 0.9,
            "bin_end": 1,
            "count": 3
           }
          ]
         }
        },
        {
         "name": "pclass",
         "dtype": "int64",
         "stats": {
          "unique_count": 3,
          "nan_count": 0,
          "min": "1",
          "max": "3",
          "histogram": [
           {
            "bin_start": 1,
            "bin_end": 1.2,
            "count": 1
           },
           {
            "bin_start": 1.2,
            "bin_end": 1.4,
            "count": 0
           },
           {
            "bin_start": 1.4,
            "bin_end": 1.6,
            "count": 0
           },
           {
            "bin_start": 1.6,
            "bin_end": 1.8,
            "count": 0
           },
           {
            "bin_start": 1.8,
            "bin_end": 2,
            "count": 0
           },
           {
            "bin_start": 2,
            "bin_end": 2.2,
            "count": 1
           },
           {
            "bin_start": 2.2,
            "bin_end": 2.4000000000000004,
            "count": 0
           },
           {
            "bin_start": 2.4000000000000004,
            "bin_end": 2.6,
            "count": 0
           },
           {
            "bin_start": 2.6,
            "bin_end": 2.8,
            "count": 0
           },
           {
            "bin_start": 2.8,
            "bin_end": 3,
            "count": 3
           }
          ]
         }
        },
        {
         "name": "name",
         "dtype": "object",
         "stats": {
          "unique_count": 5,
          "nan_count": 0,
          "categories": [
           {
            "name": "Andersson, Mr. August Edvard (\"Wennerstrom\")",
            "count": 1
           },
           {
            "name": "Dahl, Mr. Karl Edwart",
            "count": 1
           },
           {
            "name": "3 others",
            "count": 3
           }
          ]
         }
        },
        {
         "name": "sex",
         "dtype": "object",
         "stats": {
          "unique_count": 2,
          "nan_count": 0,
          "categories": [
           {
            "name": "male",
            "count": 4
           },
           {
            "name": "female",
            "count": 1
           }
          ]
         }
        },
        {
         "name": "age",
         "dtype": "float64",
         "stats": {
          "unique_count": 3,
          "nan_count": 1,
          "min": "27.0",
          "max": "45.0",
          "histogram": [
           {
            "bin_start": 27,
            "bin_end": 28.8,
            "count": 3
           },
           {
            "bin_start": 28.8,
            "bin_end": 30.6,
            "count": 0
           },
           {
            "bin_start": 30.6,
            "bin_end": 32.4,
            "count": 0
           },
           {
            "bin_start": 32.4,
            "bin_end": 34.2,
            "count": 0
           },
           {
            "bin_start": 34.2,
            "bin_end": 36,
            "count": 0
           },
           {
            "bin_start": 36,
            "bin_end": 37.8,
            "count": 0
           },
           {
            "bin_start": 37.8,
            "bin_end": 39.6,
            "count": 0
           },
           {
            "bin_start": 39.6,
            "bin_end": 41.4,
            "count": 0
           },
           {
            "bin_start": 41.4,
            "bin_end": 43.2,
            "count": 0
           },
           {
            "bin_start": 43.2,
            "bin_end": 45,
            "count": 1
           }
          ]
         }
        },
        {
         "name": "sibsp",
         "dtype": "int64",
         "stats": {
          "unique_count": 2,
          "nan_count": 0,
          "min": "0",
          "max": "1",
          "histogram": [
           {
            "bin_start": 0,
            "bin_end": 0.1,
            "count": 4
           },
           {
            "bin_start": 0.1,
            "bin_end": 0.2,
            "count": 0
           },
           {
            "bin_start": 0.2,
            "bin_end": 0.30000000000000004,
            "count": 0
           },
           {
            "bin_start": 0.30000000000000004,
            "bin_end": 0.4,
            "count": 0
           },
           {
            "bin_start": 0.4,
            "bin_end": 0.5,
            "count": 0
           },
           {
            "bin_start": 0.5,
            "bin_end": 0.6000000000000001,
            "count": 0
           },
           {
            "bin_start": 0.6000000000000001,
            "bin_end": 0.7000000000000001,
            "count": 0
           },
           {
            "bin_start": 0.7000000000000001,
            "bin_end": 0.8,
            "count": 0
           },
           {
            "bin_start": 0.8,
            "bin_end": 0.9,
            "count": 0
           },
           {
            "bin_start": 0.9,
            "bin_end": 1,
            "count": 1
           }
          ]
         }
        },
        {
         "name": "parch",
         "dtype": "int64",
         "stats": {
          "unique_count": 2,
          "nan_count": 0,
          "min": "0",
          "max": "2",
          "histogram": [
           {
            "bin_start": 0,
            "bin_end": 0.2,
            "count": 4
           },
           {
            "bin_start": 0.2,
            "bin_end": 0.4,
            "count": 0
           },
           {
            "bin_start": 0.4,
            "bin_end": 0.6000000000000001,
            "count": 0
           },
           {
            "bin_start": 0.6000000000000001,
            "bin_end": 0.8,
            "count": 0
           },
           {
            "bin_start": 0.8,
            "bin_end": 1,
            "count": 0
           },
           {
            "bin_start": 1,
            "bin_end": 1.2000000000000002,
            "count": 0
           },
           {
            "bin_start": 1.2000000000000002,
            "bin_end": 1.4000000000000001,
            "count": 0
           },
           {
            "bin_start": 1.4000000000000001,
            "bin_end": 1.6,
            "count": 0
           },
           {
            "bin_start": 1.6,
            "bin_end": 1.8,
            "count": 0
           },
           {
            "bin_start": 1.8,
            "bin_end": 2,
            "count": 1
           }
          ]
         }
        },
        {
         "name": "ticket",
         "dtype": "object",
         "stats": {
          "unique_count": 5,
          "nan_count": 0,
          "categories": [
           {
            "name": "350043",
            "count": 1
           },
           {
            "name": "7598",
            "count": 1
           },
           {
            "name": "3 others",
            "count": 3
           }
          ]
         }
        },
        {
         "name": "fare",
         "dtype": "float64",
         "stats": {
          "unique_count": 5,
          "nan_count": 0,
          "min": "0.0",
          "max": "82.1708",
          "histogram": [
           {
            "bin_start": 0,
            "bin_end": 8.21708,
            "count": 3
           },
           {
            "bin_start": 8.21708,
            "bin_end": 16.43416,
            "count": 1
           },
           {
            "bin_start": 16.43416,
            "bin_end": 24.651239999999998,
            "count": 0
           },
           {
            "bin_start": 24.651239999999998,
            "bin_end": 32.86832,
            "count": 0
           },
           {
            "bin_start": 32.86832,
            "bin_end": 41.08539999999999,
            "count": 0
           },
           {
            "bin_start": 41.08539999999999,
            "bin_end": 49.302479999999996,
            "count": 0
           },
           {
            "bin_start": 49.302479999999996,
            "bin_end": 57.51956,
            "count": 0
           },
           {
            "bin_start": 57.51956,
            "bin_end": 65.73664,
            "count": 0
           },
           {
            "bin_start": 65.73664,
            "bin_end": 73.95371999999999,
            "count": 0
           },
           {
            "bin_start": 73.95371999999999,
            "bin_end": 82.1708,
            "count": 1
           }
          ]
         }
        },
        {
         "name": "cabin",
         "dtype": "object",
         "stats": {
          "unique_count": 0,
          "nan_count": 5,
          "categories": [
           {
            "name": "Missing",
            "count": 5
           }
          ]
         }
        },
        {
         "name": "embarked",
         "dtype": "object",
         "stats": {
          "unique_count": 2,
          "nan_count": 0,
          "categories": [
           {
            "name": "S",
            "count": 4
           },
           {
            "name": "C",
            "count": 1
           }
          ]
         }
        },
        {
         "name": "home.dest",
         "dtype": "object",
         "stats": {
          "unique_count": 3,
          "nan_count": 2,
          "categories": [
           {
            "name": "Australia Fingal, ND",
            "count": 1
           },
           {
            "name": "2 others",
            "count": 2
           },
           {
            "name": "Missing",
            "count": 2
           }
          ]
         }
        },
        {
         "name": "_deepnote_index_column",
         "dtype": "int64"
        }
       ],
       "rows_top": [
        {
         "ID": 0,
         "survived": 1,
         "pclass": 3,
         "name": "Andersson, Mr. August Edvard (\"Wennerstrom\")",
         "sex": "male",
         "age": 27,
         "sibsp": 0,
         "parch": 0,
         "ticket": "350043",
         "fare": 7.7958,
         "cabin": "nan",
         "embarked": "S",
         "home.dest": "nan",
         "_deepnote_index_column": 0
        },
        {
         "ID": 1,
         "survived": 1,
         "pclass": 3,
         "name": "Dahl, Mr. Karl Edwart",
         "sex": "male",
         "age": 45,
         "sibsp": 0,
         "parch": 0,
         "ticket": "7598",
         "fare": 8.05,
         "cabin": "nan",
         "embarked": "S",
         "home.dest": "Australia Fingal, ND",
         "_deepnote_index_column": 1
        },
        {
         "ID": 2,
         "survived": 0,
         "pclass": 2,
         "name": "Watson, Mr. Ennis Hastings",
         "sex": "male",
         "age": "nan",
         "sibsp": 0,
         "parch": 0,
         "ticket": "239856",
         "fare": 0,
         "cabin": "nan",
         "embarked": "S",
         "home.dest": "Belfast",
         "_deepnote_index_column": 2
        },
        {
         "ID": 3,
         "survived": 1,
         "pclass": 3,
         "name": "Johnson, Mrs. Oscar W (Elisabeth Vilhelmina Berg)",
         "sex": "female",
         "age": 27,
         "sibsp": 0,
         "parch": 2,
         "ticket": "347742",
         "fare": 11.1333,
         "cabin": "nan",
         "embarked": "S",
         "home.dest": "nan",
         "_deepnote_index_column": 3
        },
        {
         "ID": 4,
         "survived": 0,
         "pclass": 1,
         "name": "Meyer, Mr. Edgar Joseph",
         "sex": "male",
         "age": 28,
         "sibsp": 1,
         "parch": 0,
         "ticket": "PC 17604",
         "fare": 82.1708,
         "cabin": "nan",
         "embarked": "C",
         "home.dest": "New York, NY",
         "_deepnote_index_column": 4
        }
       ],
       "rows_bottom": null
      },
      "text/plain": "   ID  survived  pclass                                               name  \\\n0   0         1       3       Andersson, Mr. August Edvard (\"Wennerstrom\")   \n1   1         1       3                              Dahl, Mr. Karl Edwart   \n2   2         0       2                         Watson, Mr. Ennis Hastings   \n3   3         1       3  Johnson, Mrs. Oscar W (Elisabeth Vilhelmina Berg)   \n4   4         0       1                            Meyer, Mr. Edgar Joseph   \n\n      sex   age  sibsp  parch    ticket     fare cabin embarked  \\\n0    male  27.0      0      0    350043   7.7958   NaN        S   \n1    male  45.0      0      0      7598   8.0500   NaN        S   \n2    male   NaN      0      0    239856   0.0000   NaN        S   \n3  female  27.0      0      2    347742  11.1333   NaN        S   \n4    male  28.0      1      0  PC 17604  82.1708   NaN        C   \n\n              home.dest  \n0                   NaN  \n1  Australia Fingal, ND  \n2               Belfast  \n3                   NaN  \n4          New York, NY  ",
      "text/html": "<div>\n<style scoped>\n    .dataframe tbody tr th:only-of-type {\n        vertical-align: middle;\n    }\n\n    .dataframe tbody tr th {\n        vertical-align: top;\n    }\n\n    .dataframe thead th {\n        text-align: right;\n    }\n</style>\n<table border=\"1\" class=\"dataframe\">\n  <thead>\n    <tr style=\"text-align: right;\">\n      <th></th>\n      <th>ID</th>\n      <th>survived</th>\n      <th>pclass</th>\n      <th>name</th>\n      <th>sex</th>\n      <th>age</th>\n      <th>sibsp</th>\n      <th>parch</th>\n      <th>ticket</th>\n      <th>fare</th>\n      <th>cabin</th>\n      <th>embarked</th>\n      <th>home.dest</th>\n    </tr>\n  </thead>\n  <tbody>\n    <tr>\n      <th>0</th>\n      <td>0</td>\n      <td>1</td>\n      <td>3</td>\n      <td>Andersson, Mr. August Edvard (\"Wennerstrom\")</td>\n      <td>male</td>\n      <td>27.0</td>\n      <td>0</td>\n      <td>0</td>\n      <td>350043</td>\n      <td>7.7958</td>\n      <td>NaN</td>\n      <td>S</td>\n      <td>NaN</td>\n    </tr>\n    <tr>\n      <th>1</th>\n      <td>1</td>\n      <td>1</td>\n      <td>3</td>\n      <td>Dahl, Mr. Karl Edwart</td>\n      <td>male</td>\n      <td>45.0</td>\n      <td>0</td>\n      <td>0</td>\n      <td>7598</td>\n      <td>8.0500</td>\n      <td>NaN</td>\n      <td>S</td>\n      <td>Australia Fingal, ND</td>\n    </tr>\n    <tr>\n      <th>2</th>\n      <td>2</td>\n      <td>0</td>\n      <td>2</td>\n      <td>Watson, Mr. Ennis Hastings</td>\n      <td>male</td>\n      <td>NaN</td>\n      <td>0</td>\n      <td>0</td>\n      <td>239856</td>\n      <td>0.0000</td>\n      <td>NaN</td>\n      <td>S</td>\n      <td>Belfast</td>\n    </tr>\n    <tr>\n      <th>3</th>\n      <td>3</td>\n      <td>1</td>\n      <td>3</td>\n      <td>Johnson, Mrs. Oscar W (Elisabeth Vilhelmina Berg)</td>\n      <td>female</td>\n      <td>27.0</td>\n      <td>0</td>\n      <td>2</td>\n      <td>347742</td>\n      <td>11.1333</td>\n      <td>NaN</td>\n      <td>S</td>\n      <td>NaN</td>\n    </tr>\n    <tr>\n      <th>4</th>\n      <td>4</td>\n      <td>0</td>\n      <td>1</td>\n      <td>Meyer, Mr. Edgar Joseph</td>\n      <td>male</td>\n      <td>28.0</td>\n      <td>1</td>\n      <td>0</td>\n      <td>PC 17604</td>\n      <td>82.1708</td>\n      <td>NaN</td>\n      <td>C</td>\n      <td>New York, NY</td>\n    </tr>\n  </tbody>\n</table>\n</div>"
     },
     "metadata": {}
    }
   ]
  },
  {
   "cell_type": "markdown",
   "source": "",
   "metadata": {
    "tags": [],
    "cell_id": "00006-73ba529d-60e5-45e6-aff3-5d917943515c",
    "deepnote_cell_type": "markdown",
    "deepnote_cell_height": 46
   }
  },
  {
   "cell_type": "markdown",
   "source": "* Pouzijeme vizualizacie aby sme sa blizie pozreli na rozlozenie niektorych priznakov\n* Dalej sa pozrieme na suvislosti datovych bodov s vysvetlovanou premennou",
   "metadata": {
    "tags": [],
    "cell_id": "00007-ec012c3e-62f3-408a-b069-2416139c74f1",
    "deepnote_cell_type": "markdown",
    "deepnote_cell_height": 94.78125
   }
  },
  {
   "cell_type": "code",
   "metadata": {
    "tags": [],
    "cell_id": "00004-11ccd154-7557-4e4e-b7d1-6e87232ee417",
    "deepnote_to_be_reexecuted": false,
    "source_hash": "75bb0d95",
    "execution_start": 1635360621183,
    "execution_millis": 2200,
    "deepnote_cell_type": "code",
    "deepnote_cell_height": 1492,
    "deepnote_output_heights": [
     266,
     266,
     286,
     286
    ]
   },
   "source": "data.age.plot(kind='hist', title=\"Passenger age distribution\")\nplt.show()\ndata.fare.plot(kind='hist', title=\"Passenger fare distribution\")\nplt.show()\nax = data.boxplot(column='age', by='survived')\nax.set_title(\"survived\")\nax.set_ylabel(\"age\")\nplt.show()\nax = data.boxplot(column='fare', by='survived')\nax.set_title(\"survived\")\nax.set_ylabel(\"fare\")\nplt.show()",
   "execution_count": null,
   "outputs": [
    {
     "data": {
      "text/plain": "<Figure size 432x288 with 1 Axes>",
      "image/png": "[encoded data removed]"
     },
     "metadata": {
      "needs_background": "light",
      "image/png": {
       "width": 389,
       "height": 264
      }
     },
     "output_type": "display_data"
    },
    {
     "data": {
      "text/plain": "<Figure size 432x288 with 1 Axes>",
      "image/png": "[encoded data removed]"
     },
     "metadata": {
      "needs_background": "light",
      "image/png": {
       "width": 389,
       "height": 264
      }
     },
     "output_type": "display_data"
    },
    {
     "data": {
      "text/plain": "<Figure size 432x288 with 1 Axes>",
      "image/png": "[encoded data removed]"
     },
     "metadata": {
      "needs_background": "light",
      "image/png": {
       "width": 393,
       "height": 284
      }
     },
     "output_type": "display_data"
    },
    {
     "data": {
      "text/plain": "<Figure size 432x288 with 1 Axes>",
      "image/png": "[encoded data removed]"
     },
     "metadata": {
      "needs_background": "light",
      "image/png": {
       "width": 399,
       "height": 284
      }
     },
     "output_type": "display_data"
    }
   ]
  },
  {
   "cell_type": "markdown",
   "source": " * Vidime ze oba tieto priznaky moju vpliv na nasu vysvetlovanu premennu\n * prejdeme k preprocessingu dat\n  **1. pokus** : \n * vek doplnime medianom\n * odstranime stlpceky ID, name, cabin, ticket, home.dest\n * zvysne stlpceky typu objekt zakodujeme pomocou one hot encoding\n * chybajuce hodnoty doplnime -1",
   "metadata": {
    "tags": [],
    "cell_id": "00006-7f68db58-567e-46d2-9e6f-47be09fc998b",
    "deepnote_cell_type": "markdown",
    "deepnote_cell_height": 243.734375
   }
  },
  {
   "cell_type": "code",
   "metadata": {
    "tags": [],
    "cell_id": "00007-378903ef-f861-41c2-9112-6da611d8abae",
    "deepnote_to_be_reexecuted": false,
    "source_hash": "dd7b3095",
    "execution_start": 1635360623394,
    "execution_millis": 10,
    "deepnote_cell_type": "code",
    "deepnote_cell_height": 297
   },
   "source": "def encode_categories(df, mappers, dummies=False):\n    label_encoder = LabelEncoder()\n    for col in df.select_dtypes('object').columns:\n        if col not in mappers and df[col].nunique() < 30:\n            df[col] = df[col].fillna('NaN')\n            df[col] = label_encoder.fit_transform(df[col])\n            if dummies:\n                df = pd.concat([\n                    df.drop(columns=[col]), pd.get_dummies(df[col], prefix=('d_' + col))\n                ], axis=1)\n        elif col in mappers:\n            df[col] = df[col].replace(mappers[col])\n    return df ",
   "execution_count": null,
   "outputs": []
  },
  {
   "cell_type": "code",
   "metadata": {
    "tags": [],
    "cell_id": "00007-9fe0f73b-a0e2-4c29-8112-eb5c7093f059",
    "deepnote_to_be_reexecuted": false,
    "source_hash": "a02f74fd",
    "execution_start": 1635360623450,
    "execution_millis": 44,
    "deepnote_cell_type": "code",
    "deepnote_cell_height": 782.8125,
    "deepnote_output_heights": [
     null,
     177
    ]
   },
   "source": "data = pd.read_csv('data.csv')\ndef first_preprocessing(data):\n    data = data.drop(columns=[\"name\", \"ID\"])\n    data = encode_categories(data, {})\n    data = data.drop(columns=[\"ticket\",\"cabin\", \"home.dest\"])\n    return data\ndata = first_preprocessing(data)\ndata.age.fillna(data.age.median(), inplace=True)\ndata.fare = data.fare.fillna(-1)\ndata.info()\ndata.head()",
   "execution_count": null,
   "outputs": [
    {
     "name": "stdout",
     "text": "<class 'pandas.core.frame.DataFrame'>\nRangeIndex: 1000 entries, 0 to 999\nData columns (total 8 columns):\n #   Column    Non-Null Count  Dtype  \n---  ------    --------------  -----  \n 0   survived  1000 non-null   int64  \n 1   pclass    1000 non-null   int64  \n 2   sex       1000 non-null   int64  \n 3   age       1000 non-null   float64\n 4   sibsp     1000 non-null   int64  \n 5   parch     1000 non-null   int64  \n 6   fare      1000 non-null   float64\n 7   embarked  1000 non-null   int64  \ndtypes: float64(2), int64(6)\nmemory usage: 62.6 KB\n",
     "output_type": "stream"
    },
    {
     "output_type": "execute_result",
     "execution_count": 5,
     "data": {
      "application/vnd.deepnote.dataframe.v2+json": {
       "row_count": 5,
       "column_count": 8,
       "columns": [
        {
         "name": "survived",
         "dtype": "int64",
         "stats": {
          "unique_count": 2,
          "nan_count": 0,
          "min": "0",
          "max": "1",
          "histogram": [
           {
            "bin_start": 0,
            "bin_end": 0.1,
            "count": 2
           },
           {
            "bin_start": 0.1,
            "bin_end": 0.2,
            "count": 0
           },
           {
            "bin_start": 0.2,
            "bin_end": 0.30000000000000004,
            "count": 0
           },
           {
            "bin_start": 0.30000000000000004,
            "bin_end": 0.4,
            "count": 0
           },
           {
            "bin_start": 0.4,
            "bin_end": 0.5,
            "count": 0
           },
           {
            "bin_start": 0.5,
            "bin_end": 0.6000000000000001,
            "count": 0
           },
           {
            "bin_start": 0.6000000000000001,
            "bin_end": 0.7000000000000001,
            "count": 0
           },
           {
            "bin_start": 0.7000000000000001,
            "bin_end": 0.8,
            "count": 0
           },
           {
            "bin_start": 0.8,
            "bin_end": 0.9,
            "count": 0
           },
           {
            "bin_start": 0.9,
            "bin_end": 1,
            "count": 3
           }
          ]
         }
        },
        {
         "name": "pclass",
         "dtype": "int64",
         "stats": {
          "unique_count": 3,
          "nan_count": 0,
          "min": "1",
          "max": "3",
          "histogram": [
           {
            "bin_start": 1,
            "bin_end": 1.2,
            "count": 1
           },
           {
            "bin_start": 1.2,
            "bin_end": 1.4,
            "count": 0
           },
           {
            "bin_start": 1.4,
            "bin_end": 1.6,
            "count": 0
           },
           {
            "bin_start": 1.6,
            "bin_end": 1.8,
            "count": 0
           },
           {
            "bin_start": 1.8,
            "bin_end": 2,
            "count": 0
           },
           {
            "bin_start": 2,
            "bin_end": 2.2,
            "count": 1
           },
           {
            "bin_start": 2.2,
            "bin_end": 2.4000000000000004,
            "count": 0
           },
           {
            "bin_start": 2.4000000000000004,
            "bin_end": 2.6,
            "count": 0
           },
           {
            "bin_start": 2.6,
            "bin_end": 2.8,
            "count": 0
           },
           {
            "bin_start": 2.8,
            "bin_end": 3,
            "count": 3
           }
          ]
         }
        },
        {
         "name": "sex",
         "dtype": "int64",
         "stats": {
          "unique_count": 2,
          "nan_count": 0,
          "min": "0",
          "max": "1",
          "histogram": [
           {
            "bin_start": 0,
            "bin_end": 0.1,
            "count": 1
           },
           {
            "bin_start": 0.1,
            "bin_end": 0.2,
            "count": 0
           },
           {
            "bin_start": 0.2,
            "bin_end": 0.30000000000000004,
            "count": 0
           },
           {
            "bin_start": 0.30000000000000004,
            "bin_end": 0.4,
            "count": 0
           },
           {
            "bin_start": 0.4,
            "bin_end": 0.5,
            "count": 0
           },
           {
            "bin_start": 0.5,
            "bin_end": 0.6000000000000001,
            "count": 0
           },
           {
            "bin_start": 0.6000000000000001,
            "bin_end": 0.7000000000000001,
            "count": 0
           },
           {
            "bin_start": 0.7000000000000001,
            "bin_end": 0.8,
            "count": 0
           },
           {
            "bin_start": 0.8,
            "bin_end": 0.9,
            "count": 0
           },
           {
            "bin_start": 0.9,
            "bin_end": 1,
            "count": 4
           }
          ]
         }
        },
        {
         "name": "age",
         "dtype": "float64",
         "stats": {
          "unique_count": 3,
          "nan_count": 0,
          "min": "27.0",
          "max": "45.0",
          "histogram": [
           {
            "bin_start": 27,
            "bin_end": 28.8,
            "count": 4
           },
           {
            "bin_start": 28.8,
            "bin_end": 30.6,
            "count": 0
           },
           {
            "bin_start": 30.6,
            "bin_end": 32.4,
            "count": 0
           },
           {
            "bin_start": 32.4,
            "bin_end": 34.2,
            "count": 0
           },
           {
            "bin_start": 34.2,
            "bin_end": 36,
            "count": 0
           },
           {
            "bin_start": 36,
            "bin_end": 37.8,
            "count": 0
           },
           {
            "bin_start": 37.8,
            "bin_end": 39.6,
            "count": 0
           },
           {
            "bin_start": 39.6,
            "bin_end": 41.4,
            "count": 0
           },
           {
            "bin_start": 41.4,
            "bin_end": 43.2,
            "count": 0
           },
           {
            "bin_start": 43.2,
            "bin_end": 45,
            "count": 1
           }
          ]
         }
        },
        {
         "name": "sibsp",
         "dtype": "int64",
         "stats": {
          "unique_count": 2,
          "nan_count": 0,
          "min": "0",
          "max": "1",
          "histogram": [
           {
            "bin_start": 0,
            "bin_end": 0.1,
            "count": 4
           },
           {
            "bin_start": 0.1,
            "bin_end": 0.2,
            "count": 0
           },
           {
            "bin_start": 0.2,
            "bin_end": 0.30000000000000004,
            "count": 0
           },
           {
            "bin_start": 0.30000000000000004,
            "bin_end": 0.4,
            "count": 0
           },
           {
            "bin_start": 0.4,
            "bin_end": 0.5,
            "count": 0
           },
           {
            "bin_start": 0.5,
            "bin_end": 0.6000000000000001,
            "count": 0
           },
           {
            "bin_start": 0.6000000000000001,
            "bin_end": 0.7000000000000001,
            "count": 0
           },
           {
            "bin_start": 0.7000000000000001,
            "bin_end": 0.8,
            "count": 0
           },
           {
            "bin_start": 0.8,
            "bin_end": 0.9,
            "count": 0
           },
           {
            "bin_start": 0.9,
            "bin_end": 1,
            "count": 1
           }
          ]
         }
        },
        {
         "name": "parch",
         "dtype": "int64",
         "stats": {
          "unique_count": 2,
          "nan_count": 0,
          "min": "0",
          "max": "2",
          "histogram": [
           {
            "bin_start": 0,
            "bin_end": 0.2,
            "count": 4
           },
           {
            "bin_start": 0.2,
            "bin_end": 0.4,
            "count": 0
           },
           {
            "bin_start": 0.4,
            "bin_end": 0.6000000000000001,
            "count": 0
           },
           {
            "bin_start": 0.6000000000000001,
            "bin_end": 0.8,
            "count": 0
           },
           {
            "bin_start": 0.8,
            "bin_end": 1,
            "count": 0
           },
           {
            "bin_start": 1,
            "bin_end": 1.2000000000000002,
            "count": 0
           },
           {
            "bin_start": 1.2000000000000002,
            "bin_end": 1.4000000000000001,
            "count": 0
           },
           {
            "bin_start": 1.4000000000000001,
            "bin_end": 1.6,
            "count": 0
           },
           {
            "bin_start": 1.6,
            "bin_end": 1.8,
            "count": 0
           },
           {
            "bin_start": 1.8,
            "bin_end": 2,
            "count": 1
           }
          ]
         }
        },
        {
         "name": "fare",
         "dtype": "float64",
         "stats": {
          "unique_count": 5,
          "nan_count": 0,
          "min": "0.0",
          "max": "82.1708",
          "histogram": [
           {
            "bin_start": 0,
            "bin_end": 8.21708,
            "count": 3
           },
           {
            "bin_start": 8.21708,
            "bin_end": 16.43416,
            "count": 1
           },
           {
            "bin_start": 16.43416,
            "bin_end": 24.651239999999998,
            "count": 0
           },
           {
            "bin_start": 24.651239999999998,
            "bin_end": 32.86832,
            "count": 0
           },
           {
            "bin_start": 32.86832,
            "bin_end": 41.08539999999999,
            "count": 0
           },
           {
            "bin_start": 41.08539999999999,
            "bin_end": 49.302479999999996,
            "count": 0
           },
           {
            "bin_start": 49.302479999999996,
            "bin_end": 57.51956,
            "count": 0
           },
           {
            "bin_start": 57.51956,
            "bin_end": 65.73664,
            "count": 0
           },
           {
            "bin_start": 65.73664,
            "bin_end": 73.95371999999999,
            "count": 0
           },
           {
            "bin_start": 73.95371999999999,
            "bin_end": 82.1708,
            "count": 1
           }
          ]
         }
        },
        {
         "name": "embarked",
         "dtype": "int64",
         "stats": {
          "unique_count": 2,
          "nan_count": 0,
          "min": "0",
          "max": "3",
          "histogram": [
           {
            "bin_start": 0,
            "bin_end": 0.3,
            "count": 1
           },
           {
            "bin_start": 0.3,
            "bin_end": 0.6,
            "count": 0
           },
           {
            "bin_start": 0.6,
            "bin_end": 0.8999999999999999,
            "count": 0
           },
           {
            "bin_start": 0.8999999999999999,
            "bin_end": 1.2,
            "count": 0
           },
           {
            "bin_start": 1.2,
            "bin_end": 1.5,
            "count": 0
           },
           {
            "bin_start": 1.5,
            "bin_end": 1.7999999999999998,
            "count": 0
           },
           {
            "bin_start": 1.7999999999999998,
            "bin_end": 2.1,
            "count": 0
           },
           {
            "bin_start": 2.1,
            "bin_end": 2.4,
            "count": 0
           },
           {
            "bin_start": 2.4,
            "bin_end": 2.6999999999999997,
            "count": 0
           },
           {
            "bin_start": 2.6999999999999997,
            "bin_end": 3,
            "count": 4
           }
          ]
         }
        },
        {
         "name": "_deepnote_index_column",
         "dtype": "int64"
        }
       ],
       "rows_top": [
        {
         "survived": 1,
         "pclass": 3,
         "sex": 1,
         "age": 27,
         "sibsp": 0,
         "parch": 0,
         "fare": 7.7958,
         "embarked": 3,
         "_deepnote_index_column": 0
        },
        {
         "survived": 1,
         "pclass": 3,
         "sex": 1,
         "age": 45,
         "sibsp": 0,
         "parch": 0,
         "fare": 8.05,
         "embarked": 3,
         "_deepnote_index_column": 1
        },
        {
         "survived": 0,
         "pclass": 2,
         "sex": 1,
         "age": 28,
         "sibsp": 0,
         "parch": 0,
         "fare": 0,
         "embarked": 3,
         "_deepnote_index_column": 2
        },
        {
         "survived": 1,
         "pclass": 3,
         "sex": 0,
         "age": 27,
         "sibsp": 0,
         "parch": 2,
         "fare": 11.1333,
         "embarked": 3,
         "_deepnote_index_column": 3
        },
        {
         "survived": 0,
         "pclass": 1,
         "sex": 1,
         "age": 28,
         "sibsp": 1,
         "parch": 0,
         "fare": 82.1708,
         "embarked": 0,
         "_deepnote_index_column": 4
        }
       ],
       "rows_bottom": null
      },
      "text/plain": "   survived  pclass  sex   age  sibsp  parch     fare  embarked\n0         1       3    1  27.0      0      0   7.7958         3\n1         1       3    1  45.0      0      0   8.0500         3\n2         0       2    1  28.0      0      0   0.0000         3\n3         1       3    0  27.0      0      2  11.1333         3\n4         0       1    1  28.0      1      0  82.1708         0",
      "text/html": "<div>\n<style scoped>\n    .dataframe tbody tr th:only-of-type {\n        vertical-align: middle;\n    }\n\n    .dataframe tbody tr th {\n        vertical-align: top;\n    }\n\n    .dataframe thead th {\n        text-align: right;\n    }\n</style>\n<table border=\"1\" class=\"dataframe\">\n  <thead>\n    <tr style=\"text-align: right;\">\n      <th></th>\n      <th>survived</th>\n      <th>pclass</th>\n      <th>sex</th>\n      <th>age</th>\n      <th>sibsp</th>\n      <th>parch</th>\n      <th>fare</th>\n      <th>embarked</th>\n    </tr>\n  </thead>\n  <tbody>\n    <tr>\n      <th>0</th>\n      <td>1</td>\n      <td>3</td>\n      <td>1</td>\n      <td>27.0</td>\n      <td>0</td>\n      <td>0</td>\n      <td>7.7958</td>\n      <td>3</td>\n    </tr>\n    <tr>\n      <th>1</th>\n      <td>1</td>\n      <td>3</td>\n      <td>1</td>\n      <td>45.0</td>\n      <td>0</td>\n      <td>0</td>\n      <td>8.0500</td>\n      <td>3</td>\n    </tr>\n    <tr>\n      <th>2</th>\n      <td>0</td>\n      <td>2</td>\n      <td>1</td>\n      <td>28.0</td>\n      <td>0</td>\n      <td>0</td>\n      <td>0.0000</td>\n      <td>3</td>\n    </tr>\n    <tr>\n      <th>3</th>\n      <td>1</td>\n      <td>3</td>\n      <td>0</td>\n      <td>27.0</td>\n      <td>0</td>\n      <td>2</td>\n      <td>11.1333</td>\n      <td>3</td>\n    </tr>\n    <tr>\n      <th>4</th>\n      <td>0</td>\n      <td>1</td>\n      <td>1</td>\n      <td>28.0</td>\n      <td>1</td>\n      <td>0</td>\n      <td>82.1708</td>\n      <td>0</td>\n    </tr>\n  </tbody>\n</table>\n</div>"
     },
     "metadata": {}
    }
   ]
  },
  {
   "cell_type": "markdown",
   "source": "* Rozdelime data na trenovaciu (60%) a validacnu (40%) mnozinu (podla 1. bonusu)\n* Postupne aplikujeme random forest classifier, decision tree classifier a adaboost ",
   "metadata": {
    "tags": [],
    "cell_id": "00012-81caf243-77db-4e8b-9592-11a5c5b33af8",
    "deepnote_cell_type": "markdown",
    "deepnote_cell_height": 94.78125
   }
  },
  {
   "cell_type": "code",
   "metadata": {
    "tags": [],
    "cell_id": "00015-f37bf375-7b04-472b-80c8-217537682221",
    "deepnote_to_be_reexecuted": false,
    "source_hash": "55a7da5e",
    "execution_start": 1635360623506,
    "execution_millis": 0,
    "deepnote_cell_type": "code",
    "deepnote_cell_height": 117
   },
   "source": "Xtrain, Xval, ytrain, yval = train_test_split(\n    data.drop(columns=['survived']), data.survived, test_size=0.4, random_state=random_seed\n)",
   "execution_count": null,
   "outputs": []
  },
  {
   "cell_type": "code",
   "metadata": {
    "tags": [],
    "cell_id": "00016-8c9e3ce2-5a3d-4ce8-8d74-6a5b3f7268e1",
    "deepnote_to_be_reexecuted": false,
    "source_hash": "432b5474",
    "execution_start": 1635360623524,
    "execution_millis": 41305,
    "owner_user_id": "73ba638b-da5a-4a24-a8f2-d1f8e7eecf9d",
    "deepnote_cell_type": "code",
    "deepnote_cell_height": 424.1875,
    "deepnote_output_heights": [
     21.1875
    ]
   },
   "source": "param_grid = {\n    'n_estimators': range(1, 100, 5),\n    'max_depth': range(2, 5),\n    'min_samples_split': range(2, 5),\n    'criterion': ['gini', 'entropy'],\n    'random_state': [random_seed]\n}\n\nparam_comb = ParameterGrid(param_grid)\n\nval_acc = []\nfor params in param_comb:\n    rf = RandomForestClassifier(**params)\n    rf.fit(Xtrain, ytrain)\n    val_acc.append(accuracy_score(yval, rf.predict(Xval)))\n\nrf = RandomForestClassifier(**param_comb[np.argmax(val_acc)])\nrf.fit(Xtrain, ytrain)",
   "execution_count": null,
   "outputs": [
    {
     "output_type": "execute_result",
     "execution_count": 7,
     "data": {
      "text/plain": "RandomForestClassifier(max_depth=4, n_estimators=56, random_state=7)"
     },
     "metadata": {}
    }
   ]
  },
  {
   "cell_type": "code",
   "metadata": {
    "tags": [],
    "cell_id": "00015-81830152-8e98-4a81-afbc-8b4f5a71d1da",
    "deepnote_to_be_reexecuted": false,
    "source_hash": "c7b1fb73",
    "execution_start": 1635360664883,
    "execution_millis": 2,
    "deepnote_cell_type": "code",
    "deepnote_cell_height": 242.5625
   },
   "source": "train_acc_randf_1 = accuracy_score(ytrain, rf.predict(Xtrain))\nvalid_acc_randf_1 = accuracy_score(yval, rf.predict(Xval))\nbest_params_randf_1 = param_comb[np.argmax(val_acc)]\nprint(f'Train accuracy:\\t{train_acc_randf_1}')\nprint(f'Validation accuracy:\\t{valid_acc_randf_1}')\nprint(f'Best params:\\t{best_params_randf_1}')",
   "execution_count": null,
   "outputs": [
    {
     "name": "stdout",
     "text": "Train accuracy:\t0.8333333333333334\nValidation accuracy:\t0.82\nBest params:\t{'random_state': 7, 'n_estimators': 56, 'min_samples_split': 2, 'max_depth': 4, 'criterion': 'gini'}\n",
     "output_type": "stream"
    }
   ]
  },
  {
   "cell_type": "code",
   "metadata": {
    "tags": [],
    "cell_id": "00012-b4108941-9752-4859-9e51-2af2fcfa1e38",
    "deepnote_to_be_reexecuted": false,
    "source_hash": "9282b46c",
    "execution_start": 1635360664884,
    "execution_millis": 553,
    "deepnote_cell_type": "code",
    "deepnote_cell_height": 406.1875
   },
   "source": "param_grid = {\n    'max_depth': range(1,30), \n    'criterion': ['entropy', 'gini']\n}\nparam_comb = ParameterGrid(param_grid)\n\nval_acc = []\ntrain_acc = []\n\nfor params in param_comb:\n    dt = DecisionTreeClassifier(max_depth=params['max_depth'], criterion=params['criterion'])\n    dt.fit(Xtrain, ytrain)\n    train_acc.append(metrics.accuracy_score(ytrain, dt.predict(Xtrain)))\n    val_acc.append(metrics.accuracy_score(yval, dt.predict(Xval)))\n\ndt = DecisionTreeClassifier(**param_comb[np.argmax(val_acc)])\ndt.fit(Xtrain, ytrain)",
   "execution_count": null,
   "outputs": [
    {
     "output_type": "execute_result",
     "execution_count": 9,
     "data": {
      "text/plain": "DecisionTreeClassifier(criterion='entropy', max_depth=5)"
     },
     "metadata": {}
    }
   ]
  },
  {
   "cell_type": "code",
   "metadata": {
    "tags": [],
    "cell_id": "00017-ff1a3bf9-a8c1-4a2d-b7d2-6f0e8fd6f5f3",
    "deepnote_to_be_reexecuted": false,
    "source_hash": "dff82174",
    "execution_start": 1635360665454,
    "execution_millis": 8,
    "deepnote_cell_type": "code",
    "deepnote_cell_height": 242.5625
   },
   "source": "train_acc_dect_1 = accuracy_score(ytrain, dt.predict(Xtrain))\nvalid_acc_dect_1 = accuracy_score(yval, dt.predict(Xval))\nbest_params_dect_1 = param_comb[np.argmax(val_acc)]\nprint(f'Train accuracy:\\t{train_acc_dect_1}')\nprint(f'Validation accuracy:\\t{valid_acc_dect_1}')\nprint(f'Best params:\\t{best_params_dect_1}')",
   "execution_count": null,
   "outputs": [
    {
     "name": "stdout",
     "text": "Train accuracy:\t0.84\nValidation accuracy:\t0.7975\nBest params:\t{'max_depth': 5, 'criterion': 'entropy'}\n",
     "output_type": "stream"
    }
   ]
  },
  {
   "cell_type": "code",
   "metadata": {
    "tags": [],
    "cell_id": "00013-40b0a120-cf1d-420d-a448-af61685bf0f4",
    "deepnote_to_be_reexecuted": false,
    "source_hash": "b67fdea0",
    "execution_start": 1635360665475,
    "execution_millis": 14391,
    "deepnote_cell_type": "code",
    "deepnote_cell_height": 382.1875
   },
   "source": "param_grid = {\n    'n_estimators': range(1,100,5),\n    'learning_rate': [0.01, 0.05, 0.1, 0.3, 0.5, 1]\n}\n\nparam_comb = ParameterGrid(param_grid)\n\nval_metric = []\nfor params in param_comb:\n    ada = AdaBoostClassifier(**params).fit(Xtrain, ytrain)\n    val_metric.append(accuracy_score(yval, ada.predict(Xval)))\n\nbest_params = param_comb[np.argmax(val_metric)]\nprint(f\"We found the best params {best_params} with validation accuracy_score {max(val_metric):.4f}.\")\n\nada_model = AdaBoostClassifier(**best_params).fit(Xtrain, ytrain)",
   "execution_count": null,
   "outputs": [
    {
     "name": "stdout",
     "text": "We found the best params {'n_estimators': 21, 'learning_rate': 1} with validation accuracy_score 0.7900.\n",
     "output_type": "stream"
    }
   ]
  },
  {
   "cell_type": "code",
   "metadata": {
    "tags": [],
    "cell_id": "00019-8b2f0699-fc16-4cf8-964c-10f8a027cfb9",
    "deepnote_to_be_reexecuted": false,
    "source_hash": "1ffb853d",
    "execution_start": 1635360679864,
    "execution_millis": 4,
    "deepnote_cell_type": "code",
    "deepnote_cell_height": 242.5625
   },
   "source": "train_acc_ada_1 = accuracy_score(ytrain, ada_model.predict(Xtrain))\nvalid_acc_ada_1 = accuracy_score(yval, ada_model.predict(Xval))\nbest_params_ada_1 = best_params\nprint(f'Train accuracy:\\t{train_acc_ada_1}')\nprint(f'Validation accuracy:\\t{valid_acc_ada_1}')\nprint(f'Best params:\\t{best_params_ada_1}')",
   "execution_count": null,
   "outputs": [
    {
     "name": "stdout",
     "text": "Train accuracy:\t0.8166666666666667\nValidation accuracy:\t0.79\nBest params:\t{'n_estimators': 21, 'learning_rate': 1}\n",
     "output_type": "stream"
    }
   ]
  },
  {
   "cell_type": "markdown",
   "source": "  **2. pokus** : \n * vek doplnime medianom\n * odstranime stlpceky ID, name, ticket, home.dest\n * do stlpceka kabin sa pokusime pridat usporiadanie pomocou planou na titanic\\\n    <https://www.encyclopedia-titanica.org/titanic-deckplans/a-deck.html>\n * Predpokladame ze pasazieri zijuci vysie (alfebeticky skor) mali vacsiu sancu prezit\n * zvysne stlpceky typu objekt zakodujeme pomocou one hot encoding\n * chybajuce hodnoty doplnime -1\n",
   "metadata": {
    "tags": [],
    "cell_id": "00020-e0d06a74-f03c-4f79-aaa6-6f1b89c644c3",
    "deepnote_cell_type": "markdown"
   }
  },
  {
   "cell_type": "code",
   "metadata": {
    "tags": [],
    "cell_id": "00017-91597048-35d1-432b-ab5c-9674176961ef",
    "deepnote_to_be_reexecuted": false,
    "source_hash": "3a0c04c1",
    "execution_start": 1635360679868,
    "execution_millis": 931,
    "deepnote_cell_type": "code"
   },
   "source": "data = pd.read_csv('data.csv')\n#display(data.cabin.unique())\ndef second_preprocessing(data): \n    cabin_map = {\n        'A(.*)' : 7,\n        'B(.*)' : 6,\n        'C(.*)' : 5,\n        'D(.*)' : 4,\n        'E(.*)' : 3,\n        'F(.*)' : 2,\n        'G(.*)' : 1,\n        'T(.*)' : 0\n    }\n\n    data.cabin = data.cabin.replace(cabin_map, regex=True)\n    data.cabin.fillna(-1, inplace=True)\n    data = data.drop(columns=[\"name\", \"ID\"])\n    data = encode_categories(data, {})\n    data = data.drop(columns=[\"ticket\", \"home.dest\"])\n    return data\ndata = second_preprocessing(data);\n\ndata.age.fillna(data.age.median(), inplace=True)\ndata = data.fillna(-1)\ndata.info()\n\n#display(data.cabin.unique())\n\n\nplt.figure(figsize=(12,15))\nsurvived = data[data['survived'] == 1]\nnot_survived = data[data['survived'] == 0]\nplt.subplot(321)\nsurvived['cabin'].plot.hist(color='Green')\nplt.subplot(322)\nnot_survived['cabin'].plot.hist(color='Black')\nplt.show()\n",
   "execution_count": null,
   "outputs": [
    {
     "name": "stdout",
     "text": "<class 'pandas.core.frame.DataFrame'>\nRangeIndex: 1000 entries, 0 to 999\nData columns (total 9 columns):\n #   Column    Non-Null Count  Dtype  \n---  ------    --------------  -----  \n 0   survived  1000 non-null   int64  \n 1   pclass    1000 non-null   int64  \n 2   sex       1000 non-null   int64  \n 3   age       1000 non-null   float64\n 4   sibsp     1000 non-null   int64  \n 5   parch     1000 non-null   int64  \n 6   fare      1000 non-null   float64\n 7   cabin     1000 non-null   float64\n 8   embarked  1000 non-null   int64  \ndtypes: float64(3), int64(6)\nmemory usage: 70.4 KB\n",
     "output_type": "stream"
    },
    {
     "data": {
      "text/plain": "<Figure size 864x1080 with 2 Axes>",
      "image/png": "[encoded data removed]"
     },
     "metadata": {
      "needs_background": "light",
      "image/png": {
       "width": 723,
       "height": 271
      }
     },
     "output_type": "display_data"
    }
   ]
  },
  {
   "cell_type": "markdown",
   "source": "* Z grafou vidime ze nasa hypoteza bola pravdiva a ludia z vyssich podlazi prezivali viac\n* Nasladne pokracujeme rovnako ako v 1. pokuse",
   "metadata": {
    "tags": [],
    "cell_id": "00022-451cbb17-ea29-4698-a610-c199c7415574",
    "deepnote_cell_type": "markdown"
   }
  },
  {
   "cell_type": "code",
   "metadata": {
    "tags": [],
    "cell_id": "00015-99029af9-88b9-4fc9-bb90-819eaf77620f",
    "deepnote_to_be_reexecuted": false,
    "source_hash": "fc5db568",
    "execution_start": 1635360680803,
    "execution_millis": 8,
    "deepnote_cell_type": "code"
   },
   "source": "Xtrain, Xval, ytrain, yval = train_test_split(\n    data.drop(columns=['survived']), data.survived, test_size=0.4, random_state=random_seed\n)\n",
   "execution_count": null,
   "outputs": []
  },
  {
   "cell_type": "code",
   "metadata": {
    "tags": [],
    "cell_id": "00024-e4d8babe-91b0-487b-a20c-7ba24dca56dd",
    "deepnote_to_be_reexecuted": false,
    "source_hash": "432b5474",
    "execution_start": 1635360680814,
    "execution_millis": 40261,
    "deepnote_cell_type": "code"
   },
   "source": "param_grid = {\n    'n_estimators': range(1, 100, 5),\n    'max_depth': range(2, 5),\n    'min_samples_split': range(2, 5),\n    'criterion': ['gini', 'entropy'],\n    'random_state': [random_seed]\n}\n\nparam_comb = ParameterGrid(param_grid)\n\nval_acc = []\nfor params in param_comb:\n    rf = RandomForestClassifier(**params)\n    rf.fit(Xtrain, ytrain)\n    val_acc.append(accuracy_score(yval, rf.predict(Xval)))\n\nrf = RandomForestClassifier(**param_comb[np.argmax(val_acc)])\nrf.fit(Xtrain, ytrain)",
   "execution_count": null,
   "outputs": [
    {
     "output_type": "execute_result",
     "execution_count": 15,
     "data": {
      "text/plain": "RandomForestClassifier(criterion='entropy', max_depth=4, n_estimators=96,\n                       random_state=7)"
     },
     "metadata": {}
    }
   ]
  },
  {
   "cell_type": "code",
   "metadata": {
    "tags": [],
    "cell_id": "00017-bacff8e1-055c-4e78-a012-650448d6515b",
    "deepnote_to_be_reexecuted": false,
    "source_hash": "2292d19b",
    "execution_start": 1635360721072,
    "execution_millis": 40,
    "deepnote_cell_type": "code"
   },
   "source": "train_acc_randf_2 = accuracy_score(ytrain, rf.predict(Xtrain))\nvalid_acc_randf_2 = accuracy_score(yval, rf.predict(Xval))\nbest_params_randf_2 = param_comb[np.argmax(val_acc)]\nprint(f'Train accuracy:\\t{train_acc_randf_2}')\nprint(f'Validation accuracy:\\t{valid_acc_randf_2}')\nprint(f'Best params:\\t{best_params_randf_2}')",
   "execution_count": null,
   "outputs": [
    {
     "name": "stdout",
     "text": "Train accuracy:\t0.8416666666666667\nValidation accuracy:\t0.815\nBest params:\t{'random_state': 7, 'n_estimators': 96, 'min_samples_split': 2, 'max_depth': 4, 'criterion': 'entropy'}\n",
     "output_type": "stream"
    }
   ]
  },
  {
   "cell_type": "code",
   "metadata": {
    "tags": [],
    "cell_id": "00014-e41f757c-5102-4b2d-a75f-0eb4a5a78ba4",
    "deepnote_to_be_reexecuted": false,
    "source_hash": "9282b46c",
    "execution_start": 1635360721118,
    "execution_millis": 676,
    "deepnote_cell_type": "code"
   },
   "source": "param_grid = {\n    'max_depth': range(1,30), \n    'criterion': ['entropy', 'gini']\n}\nparam_comb = ParameterGrid(param_grid)\n\nval_acc = []\ntrain_acc = []\n\nfor params in param_comb:\n    dt = DecisionTreeClassifier(max_depth=params['max_depth'], criterion=params['criterion'])\n    dt.fit(Xtrain, ytrain)\n    train_acc.append(metrics.accuracy_score(ytrain, dt.predict(Xtrain)))\n    val_acc.append(metrics.accuracy_score(yval, dt.predict(Xval)))\n\ndt = DecisionTreeClassifier(**param_comb[np.argmax(val_acc)])\ndt.fit(Xtrain, ytrain)",
   "execution_count": null,
   "outputs": [
    {
     "output_type": "execute_result",
     "execution_count": 17,
     "data": {
      "text/plain": "DecisionTreeClassifier(criterion='entropy', max_depth=5)"
     },
     "metadata": {}
    }
   ]
  },
  {
   "cell_type": "code",
   "metadata": {
    "tags": [],
    "cell_id": "00027-123cf540-a293-4102-823d-f5304412920e",
    "deepnote_to_be_reexecuted": false,
    "source_hash": "1d485d31",
    "execution_start": 1635360721848,
    "execution_millis": 2,
    "deepnote_cell_type": "code"
   },
   "source": "train_acc_dect_2 = accuracy_score(ytrain, dt.predict(Xtrain))\nvalid_acc_dect_2 = accuracy_score(yval, dt.predict(Xval))\nbest_params_dect_2 = param_comb[np.argmax(val_acc)]\nprint(f'Train accuracy:\\t{train_acc_dect_2}')\nprint(f'Validation accuracy:\\t{valid_acc_dect_2}')\nprint(f'Best params:\\t{best_params_dect_2}')",
   "execution_count": null,
   "outputs": [
    {
     "name": "stdout",
     "text": "Train accuracy:\t0.84\nValidation accuracy:\t0.7975\nBest params:\t{'max_depth': 5, 'criterion': 'entropy'}\n",
     "output_type": "stream"
    }
   ]
  },
  {
   "cell_type": "code",
   "metadata": {
    "tags": [],
    "cell_id": "00016-04dd4ed1-8058-40a4-be57-3b16f235741c",
    "deepnote_to_be_reexecuted": false,
    "source_hash": "a4fa8e82",
    "execution_start": 1635360721849,
    "execution_millis": 15015,
    "deepnote_cell_type": "code"
   },
   "source": "param_grid = {\n    'n_estimators': range(1,100,5),\n    'learning_rate': [0.01, 0.05, 0.1, 0.3, 0.5, 1]\n}\n\nparam_comb = ParameterGrid(param_grid)\n\nval_metric = []\nfor params in param_comb:\n    ada = AdaBoostClassifier(**params).fit(Xtrain, ytrain)\n    val_metric.append(accuracy_score(yval, ada.predict(Xval)))\n\nbest_params = param_comb[np.argmax(val_metric)]\n\nada_model = AdaBoostClassifier(**best_params).fit(Xtrain, ytrain)",
   "execution_count": null,
   "outputs": []
  },
  {
   "cell_type": "code",
   "metadata": {
    "tags": [],
    "cell_id": "00029-ecfc733c-2643-4064-a444-dc7b35a7e8d3",
    "deepnote_to_be_reexecuted": false,
    "source_hash": "f22fb541",
    "execution_start": 1635360736883,
    "execution_millis": 68,
    "deepnote_cell_type": "code"
   },
   "source": "train_acc_ada_2 = accuracy_score(ytrain, ada_model.predict(Xtrain))\nvalid_acc_ada_2 = accuracy_score(yval, ada_model.predict(Xval))\nbest_params_ada_2 = best_params\nprint(f'Train accuracy:\\t{train_acc_ada_2}')\nprint(f'Validation accuracy:\\t{valid_acc_ada_2}')\nprint(f'Best params:\\t{best_params_ada_2}')",
   "execution_count": null,
   "outputs": [
    {
     "name": "stdout",
     "text": "Train accuracy:\t0.8183333333333334\nValidation accuracy:\t0.7875\nBest params:\t{'n_estimators': 61, 'learning_rate': 0.3}\n",
     "output_type": "stream"
    }
   ]
  },
  {
   "cell_type": "markdown",
   "source": "*Vidime ze vysledky sa zhorsili\\\n\\\n **3. pokus** : \n* skusime si vek odhadovat pomocou linearnej regresie\n* zvysok ako pokus 2",
   "metadata": {
    "tags": [],
    "cell_id": "00030-9566d868-c6e6-4c69-9781-81bcd916df77",
    "deepnote_cell_type": "markdown"
   }
  },
  {
   "cell_type": "code",
   "metadata": {
    "tags": [],
    "cell_id": "00021-0d50bdc0-3274-4505-adf4-299cef2824eb",
    "deepnote_to_be_reexecuted": false,
    "source_hash": "9b6587d6",
    "execution_start": 1635360736964,
    "execution_millis": 490,
    "deepnote_cell_type": "code"
   },
   "source": "from sklearn.linear_model import LinearRegression\nimport pandas as pd\nimport numpy as np\nimport math\n\ndata = pd.read_csv(\"data.csv\")\n\ndata = second_preprocessing(data)\ndata.info()\n\ndef fill_age(data):\n    test_data = data[data[\"age\"].isnull()]\n    data.fare = data.fare.fillna(-1)\n    data.dropna(inplace=True)\n\n    y_train = data[\"age\"]\n    X_train = data.drop(\"age\", axis=1)\n    X_test = test_data.drop(\"age\", axis=1)\n\n    model = LinearRegression()\n    model.fit(X_train, y_train)\n\n    y_pred = model.predict(X_test)\n    test_data['age'] = y_pred\n    data = pd.concat([data, test_data]).sort_index()\n    data.info()\n    return data\ndata = fill_age(data)\n",
   "execution_count": null,
   "outputs": [
    {
     "name": "stdout",
     "text": "<class 'pandas.core.frame.DataFrame'>\nRangeIndex: 1000 entries, 0 to 999\nData columns (total 9 columns):\n #   Column    Non-Null Count  Dtype  \n---  ------    --------------  -----  \n 0   survived  1000 non-null   int64  \n 1   pclass    1000 non-null   int64  \n 2   sex       1000 non-null   int64  \n 3   age       797 non-null    float64\n 4   sibsp     1000 non-null   int64  \n 5   parch     1000 non-null   int64  \n 6   fare      999 non-null    float64\n 7   cabin     1000 non-null   float64\n 8   embarked  1000 non-null   int64  \ndtypes: float64(3), int64(6)\nmemory usage: 70.4 KB\n<class 'pandas.core.frame.DataFrame'>\nInt64Index: 1000 entries, 0 to 999\nData columns (total 9 columns):\n #   Column    Non-Null Count  Dtype  \n---  ------    --------------  -----  \n 0   survived  1000 non-null   int64  \n 1   pclass    1000 non-null   int64  \n 2   sex       1000 non-null   int64  \n 3   age       1000 non-null   float64\n 4   sibsp     1000 non-null   int64  \n 5   parch     1000 non-null   int64  \n 6   fare      1000 non-null   float64\n 7   cabin     1000 non-null   float64\n 8   embarked  1000 non-null   int64  \ndtypes: float64(3), int64(6)\nmemory usage: 78.1 KB\n",
     "output_type": "stream"
    }
   ]
  },
  {
   "cell_type": "code",
   "metadata": {
    "tags": [],
    "cell_id": "00032-6ef1614d-bd75-48af-9b6c-52f6b2d52abb",
    "deepnote_to_be_reexecuted": false,
    "source_hash": "55a7da5e",
    "execution_start": 1635360737467,
    "execution_millis": 4,
    "deepnote_cell_type": "code"
   },
   "source": "Xtrain, Xval, ytrain, yval = train_test_split(\n    data.drop(columns=['survived']), data.survived, test_size=0.4, random_state=random_seed\n)",
   "execution_count": null,
   "outputs": []
  },
  {
   "cell_type": "code",
   "metadata": {
    "tags": [],
    "cell_id": "00021-501584c4-f74a-40e1-9fd6-a12ed0f04ac3",
    "deepnote_to_be_reexecuted": false,
    "source_hash": "9282b46c",
    "execution_start": 1635360737515,
    "execution_millis": 538,
    "deepnote_cell_type": "code"
   },
   "source": "param_grid = {\n    'max_depth': range(1,30), \n    'criterion': ['entropy', 'gini']\n}\nparam_comb = ParameterGrid(param_grid)\n\nval_acc = []\ntrain_acc = []\n\nfor params in param_comb:\n    dt = DecisionTreeClassifier(max_depth=params['max_depth'], criterion=params['criterion'])\n    dt.fit(Xtrain, ytrain)\n    train_acc.append(metrics.accuracy_score(ytrain, dt.predict(Xtrain)))\n    val_acc.append(metrics.accuracy_score(yval, dt.predict(Xval)))\n\ndt = DecisionTreeClassifier(**param_comb[np.argmax(val_acc)])\ndt.fit(Xtrain, ytrain)",
   "execution_count": null,
   "outputs": [
    {
     "output_type": "execute_result",
     "execution_count": 23,
     "data": {
      "text/plain": "DecisionTreeClassifier(criterion='entropy', max_depth=4)"
     },
     "metadata": {}
    }
   ]
  },
  {
   "cell_type": "code",
   "metadata": {
    "tags": [],
    "cell_id": "00034-5b5cde9d-1676-49d5-9640-e9477391865f",
    "deepnote_to_be_reexecuted": false,
    "source_hash": "a599484a",
    "execution_start": 1635360738068,
    "execution_millis": 6,
    "deepnote_cell_type": "code"
   },
   "source": "train_acc_dect_3 = accuracy_score(ytrain, dt.predict(Xtrain))\nvalid_acc_dect_3 = accuracy_score(yval, dt.predict(Xval))\nbest_params_dect_3 = param_comb[np.argmax(val_acc)]\nprint(f'Train accuracy:\\t{train_acc_dect_3}')\nprint(f'Validation accuracy:\\t{valid_acc_dect_3}')\nprint(f'Best params:\\t{best_params_dect_3}')",
   "execution_count": null,
   "outputs": [
    {
     "name": "stdout",
     "text": "Train accuracy:\t0.855\nValidation accuracy:\t0.81\nBest params:\t{'max_depth': 4, 'criterion': 'entropy'}\n",
     "output_type": "stream"
    }
   ]
  },
  {
   "cell_type": "code",
   "metadata": {
    "tags": [],
    "cell_id": "00021-cc2a54bd-156d-48cd-8d5e-525e86d431d2",
    "deepnote_to_be_reexecuted": false,
    "source_hash": "74958de2",
    "execution_start": 1635360738091,
    "execution_millis": 39712,
    "deepnote_cell_type": "code"
   },
   "source": "param_grid = {\n    'n_estimators': range(1, 100, 5),\n    'max_depth': range(2, 5),\n    'min_samples_split': range(2, 5),\n    'criterion': ['gini', 'entropy'],\n    'random_state': [random_seed]\n}\n\nparam_comb = ParameterGrid(param_grid)\n\nval_acc = []\nfor params in param_comb:\n    rf = RandomForestClassifier(**params)\n    rf.fit(Xtrain, ytrain)\n    val_acc.append(accuracy_score(yval, rf.predict(Xval)))\n\nrf_model = RandomForestClassifier(**param_comb[np.argmax(val_acc)])\nrf_model.fit(Xtrain, ytrain)",
   "execution_count": null,
   "outputs": [
    {
     "output_type": "execute_result",
     "execution_count": 25,
     "data": {
      "text/plain": "RandomForestClassifier(max_depth=4, n_estimators=21, random_state=7)"
     },
     "metadata": {}
    }
   ]
  },
  {
   "cell_type": "code",
   "metadata": {
    "tags": [],
    "cell_id": "00038-e8aac538-01ed-489f-a6f2-f244e468b935",
    "deepnote_to_be_reexecuted": false,
    "source_hash": "9cc911a1",
    "execution_start": 1635360777680,
    "execution_millis": 125,
    "deepnote_cell_type": "code"
   },
   "source": "train_acc_randf_3 = accuracy_score(ytrain, rf_model.predict(Xtrain))\nvalid_acc_randf_3 = accuracy_score(yval, rf_model.predict(Xval))\nbest_params_randf_3 = param_comb[np.argmax(val_acc)]\nprint(f'Train accuracy:\\t{train_acc_randf_3}')\nprint(f'Validation accuracy:\\t{valid_acc_randf_3}')\nprint(f'Best params:\\t{best_params_randf_3}')",
   "execution_count": null,
   "outputs": [
    {
     "name": "stdout",
     "text": "Train accuracy:\t0.8466666666666667\nValidation accuracy:\t0.825\nBest params:\t{'random_state': 7, 'n_estimators': 21, 'min_samples_split': 2, 'max_depth': 4, 'criterion': 'gini'}\n",
     "output_type": "stream"
    }
   ]
  },
  {
   "cell_type": "code",
   "metadata": {
    "tags": [],
    "cell_id": "00037-0a2e329c-1bb2-416e-87e6-8e442aa994ce",
    "deepnote_to_be_reexecuted": false,
    "source_hash": "b67fdea0",
    "execution_start": 1635360777687,
    "execution_millis": 14461,
    "deepnote_cell_type": "code"
   },
   "source": "param_grid = {\n    'n_estimators': range(1,100,5),\n    'learning_rate': [0.01, 0.05, 0.1, 0.3, 0.5, 1]\n}\n\nparam_comb = ParameterGrid(param_grid)\n\nval_metric = []\nfor params in param_comb:\n    ada = AdaBoostClassifier(**params).fit(Xtrain, ytrain)\n    val_metric.append(accuracy_score(yval, ada.predict(Xval)))\n\nbest_params = param_comb[np.argmax(val_metric)]\nprint(f\"We found the best params {best_params} with validation accuracy_score {max(val_metric):.4f}.\")\n\nada_model = AdaBoostClassifier(**best_params).fit(Xtrain, ytrain)",
   "execution_count": null,
   "outputs": [
    {
     "name": "stdout",
     "text": "We found the best params {'n_estimators': 86, 'learning_rate': 1} with validation accuracy_score 0.7975.\n",
     "output_type": "stream"
    }
   ]
  },
  {
   "cell_type": "code",
   "metadata": {
    "tags": [],
    "cell_id": "00038-88bf6e49-ad89-4c74-a865-4e4c5e38cdbd",
    "deepnote_to_be_reexecuted": false,
    "source_hash": "5ffd55e",
    "execution_start": 1635360792155,
    "execution_millis": 57,
    "deepnote_cell_type": "code"
   },
   "source": "train_acc_ada_3 = accuracy_score(ytrain, ada_model.predict(Xtrain))\nvalid_acc_ada_3 = accuracy_score(yval, ada_model.predict(Xval))\nbest_params_ada_3 = best_params\nprint(f'Train accuracy:\\t{train_acc_ada_3}')\nprint(f'Validation accuracy:\\t{valid_acc_ada_3}')\nprint(f'Best params:\\t{best_params_ada_3}')",
   "execution_count": null,
   "outputs": [
    {
     "name": "stdout",
     "text": "Train accuracy:\t0.8233333333333334\nValidation accuracy:\t0.7975\nBest params:\t{'n_estimators': 86, 'learning_rate': 1}\n",
     "output_type": "stream"
    }
   ]
  },
  {
   "cell_type": "code",
   "metadata": {
    "tags": [],
    "cell_id": "00039-4570e2bf-7d92-47fb-b0e2-25707d5807d9",
    "deepnote_to_be_reexecuted": false,
    "source_hash": "8a11b474",
    "execution_start": 1635360792221,
    "execution_millis": 1,
    "deepnote_cell_type": "code"
   },
   "source": "accs=[valid_acc_ada_3, valid_acc_ada_2,valid_acc_ada_1, valid_acc_randf_3, valid_acc_randf_2,\n      valid_acc_randf_1, valid_acc_dect_3, valid_acc_dect_2, valid_acc_dect_1]\nbest = np.argmax(accs)\nfinal_best_params = best_params_randf_3\nprint(accs[best])",
   "execution_count": null,
   "outputs": [
    {
     "name": "stdout",
     "text": "0.825\n",
     "output_type": "stream"
    }
   ]
  },
  {
   "cell_type": "markdown",
   "source": "* Vidime, ze najlepsie nam performoval random forest na 3. pokuse\n* Odhadneme teraz jeho presnost pomocou krizovej validacie",
   "metadata": {
    "tags": [],
    "cell_id": "00040-278d50f3-6a26-409e-8ce5-af08849e3735",
    "deepnote_cell_type": "markdown"
   }
  },
  {
   "cell_type": "code",
   "metadata": {
    "tags": [],
    "cell_id": "00023-4972670d-f70a-401a-8e8f-83a985c62402",
    "deepnote_to_be_reexecuted": false,
    "source_hash": "7396b43b",
    "execution_start": 1635360792274,
    "execution_millis": 790,
    "deepnote_cell_type": "code"
   },
   "source": "data = pd.read_csv('data.csv')\n\ndata = second_preprocessing(data)\ndata = fill_age(data)\n\nacc = []\nn_splits = 5\nmodel = RandomForestClassifier(**final_best_params)\n\nfor train, val in KFold(n_splits=n_splits).split(data.index):\n    print('Fold', len(acc) + 1, '/', n_splits)\n    \n    Xtrain = data[data.index.isin(train)].drop(columns='survived')\n    ytrain = data[data.index.isin(train)]['survived']\n    Xval = data[data.index.isin(val)].drop(columns='survived')\n    yval = data[data.index.isin(val)]['survived']\n\n    model.fit(Xtrain, ytrain)\n    \n    acc.append(metrics.accuracy_score(yval, model.predict(Xval)))\n\n",
   "execution_count": null,
   "outputs": [
    {
     "name": "stdout",
     "text": "<class 'pandas.core.frame.DataFrame'>\nInt64Index: 1000 entries, 0 to 999\nData columns (total 9 columns):\n #   Column    Non-Null Count  Dtype  \n---  ------    --------------  -----  \n 0   survived  1000 non-null   int64  \n 1   pclass    1000 non-null   int64  \n 2   sex       1000 non-null   int64  \n 3   age       1000 non-null   float64\n 4   sibsp     1000 non-null   int64  \n 5   parch     1000 non-null   int64  \n 6   fare      1000 non-null   float64\n 7   cabin     1000 non-null   float64\n 8   embarked  1000 non-null   int64  \ndtypes: float64(3), int64(6)\nmemory usage: 78.1 KB\nFold 1 / 5\nFold 2 / 5\nFold 3 / 5\nFold 4 / 5\nFold 5 / 5\n",
     "output_type": "stream"
    }
   ]
  },
  {
   "cell_type": "code",
   "metadata": {
    "tags": [],
    "cell_id": "00024-55b31dfd-fd74-4c0c-8c89-51d8d8d3b4ee",
    "deepnote_to_be_reexecuted": false,
    "source_hash": "901e8392",
    "execution_start": 1635360793074,
    "execution_millis": 4,
    "deepnote_cell_type": "code"
   },
   "source": "print('Acc: ', np.mean(acc))\n",
   "execution_count": null,
   "outputs": [
    {
     "name": "stdout",
     "text": "Acc:  0.8150000000000001\n",
     "output_type": "stream"
    }
   ]
  },
  {
   "cell_type": "markdown",
   "source": "* Presnost naseho modelu podla metody krizovej validacie je cca 0.815\n* Teraz nechame model predpovedat data z evaluation a nasledne ich zapiseme do suboru",
   "metadata": {
    "tags": [],
    "cell_id": "00045-530f2ed5-0b80-4a6a-98a3-217fd3778667",
    "deepnote_cell_type": "markdown"
   }
  },
  {
   "cell_type": "code",
   "metadata": {
    "tags": [],
    "cell_id": "00045-6eeffa16-9754-49aa-86a5-21104f158da7",
    "deepnote_to_be_reexecuted": false,
    "source_hash": "fe7cec7",
    "execution_start": 1635360793086,
    "execution_millis": 255,
    "deepnote_cell_type": "code"
   },
   "source": "data1 = pd.read_csv('evaluation.csv')\ndata1.head()\ndata1.info()\ndata = second_preprocessing(data1)\ndata = fill_age(data)\ndata = data.fillna(-1)\ndata.info()\n",
   "execution_count": null,
   "outputs": [
    {
     "name": "stdout",
     "text": "<class 'pandas.core.frame.DataFrame'>\nRangeIndex: 309 entries, 0 to 308\nData columns (total 12 columns):\n #   Column     Non-Null Count  Dtype  \n---  ------     --------------  -----  \n 0   ID         309 non-null    int64  \n 1   pclass     309 non-null    int64  \n 2   name       309 non-null    object \n 3   sex        309 non-null    object \n 4   age        249 non-null    float64\n 5   sibsp      309 non-null    int64  \n 6   parch      309 non-null    int64  \n 7   ticket     309 non-null    object \n 8   fare       309 non-null    float64\n 9   cabin      73 non-null     object \n 10  embarked   308 non-null    object \n 11  home.dest  172 non-null    object \ndtypes: float64(2), int64(4), object(6)\nmemory usage: 29.1+ KB\n<class 'pandas.core.frame.DataFrame'>\nInt64Index: 309 entries, 0 to 308\nData columns (total 8 columns):\n #   Column    Non-Null Count  Dtype  \n---  ------    --------------  -----  \n 0   pclass    309 non-null    int64  \n 1   sex       309 non-null    int64  \n 2   age       309 non-null    float64\n 3   sibsp     309 non-null    int64  \n 4   parch     309 non-null    int64  \n 5   fare      309 non-null    float64\n 6   cabin     309 non-null    float64\n 7   embarked  309 non-null    int64  \ndtypes: float64(3), int64(5)\nmemory usage: 21.7 KB\n<class 'pandas.core.frame.DataFrame'>\nInt64Index: 309 entries, 0 to 308\nData columns (total 8 columns):\n #   Column    Non-Null Count  Dtype  \n---  ------    --------------  -----  \n 0   pclass    309 non-null    int64  \n 1   sex       309 non-null    int64  \n 2   age       309 non-null    float64\n 3   sibsp     309 non-null    int64  \n 4   parch     309 non-null    int64  \n 5   fare      309 non-null    float64\n 6   cabin     309 non-null    float64\n 7   embarked  309 non-null    int64  \ndtypes: float64(3), int64(5)\nmemory usage: 21.7 KB\n",
     "output_type": "stream"
    }
   ]
  },
  {
   "cell_type": "code",
   "metadata": {
    "tags": [],
    "cell_id": "00045-274a080f-90c3-4524-8f40-280f9d2fed4e",
    "deepnote_to_be_reexecuted": false,
    "source_hash": "22646336",
    "execution_start": 1635360793171,
    "execution_millis": 174,
    "deepnote_cell_type": "code"
   },
   "source": "import csv\n\nres = pd.Series(model.predict(data)).rename(\"survived\")\nids = pd.DataFrame(data1.ID)\nframes = [ids, res] \nresp = pd.concat(frames, axis=1)\n\nf = open(\"results.csv\",'w+')\nresp.to_csv(\"results.csv\", sep=\",\", index=False)\nf.close\n",
   "execution_count": null,
   "outputs": [
    {
     "output_type": "execute_result",
     "execution_count": 33,
     "data": {
      "text/plain": "<function TextIOWrapper.close()>"
     },
     "metadata": {}
    }
   ]
  },
  {
   "cell_type": "code",
   "metadata": {
    "tags": [],
    "cell_id": "00046-5668c9ca-4f98-469b-b7f0-fbc82d7fc04e",
    "deepnote_to_be_reexecuted": false,
    "source_hash": "b623e53d",
    "execution_start": 1635360793198,
    "execution_millis": 18776341,
    "deepnote_cell_type": "code"
   },
   "source": "",
   "execution_count": null,
   "outputs": []
  },
  {
   "cell_type": "markdown",
   "source": "<a style='text-decoration:none;line-height:16px;display:flex;color:#5B5B62;padding:10px;justify-content:end;' href='https://deepnote.com?utm_source=created-in-deepnote-cell&projectId=d358f01e-8f1a-4a8d-8957-f3b11800c204' target=\"_blank\">\n<img alt='Created in deepnote.com' style='display:inline;max-height:16px;margin:0px;margin-right:7.5px;' src='data:image/svg+xml;base64,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' > </img>\nCreated in <span style='font-weight:600;margin-left:4px;'>Deepnote</span></a>",
   "metadata": {
    "tags": [],
    "created_in_deepnote_cell": true,
    "deepnote_cell_type": "markdown"
   }
  }
 ],
 "nbformat": 4,
 "nbformat_minor": 2,
 "metadata": {
  "orig_nbformat": 2,
  "deepnote": {
   "is_reactive": false
  },
  "deepnote_notebook_id": "5a0abba9-7c40-47d0-81a0-3c0fe43c485b",
  "deepnote_execution_queue": []
 }
}